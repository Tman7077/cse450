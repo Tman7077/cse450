{
  "cells": [
    {
      "cell_type": "markdown",
      "metadata": {},
      "source": [
        "## Setup"
      ]
    },
    {
      "cell_type": "code",
      "execution_count": 36,
      "metadata": {
        "id": "StiU5QcPPxqQ"
      },
      "outputs": [],
      "source": [
        "# Import libraries\n",
        "import cv2\n",
        "from glob import glob\n",
        "import matplotlib.pyplot as plt\n",
        "import numpy as np\n",
        "import os\n",
        "import pandas as pd\n",
        "import pickle\n",
        "import tensorflow as tf\n",
        "# from tensorflow import keras\n",
        "from tensorflow.data import Dataset # type: ignore\n",
        "from tensorflow.keras import layers, mixed_precision, Sequential # type: ignore\n",
        "from tensorflow.keras.applications import EfficientNetB3 # type: ignore\n",
        "from tensorflow.keras.layers import Dense, Dropout, GlobalAveragePooling2D # type: ignore\n",
        "from tensorflow.keras.models import Model # type: ignore\n",
        "# from tensorflow.keras.preprocessing.image import ImageDataGenerator\n",
        "from sklearn.metrics import accuracy_score, precision_score, recall_score, f1_score\n",
        "from sklearn.utils.class_weight import compute_class_weight"
      ]
    },
    {
      "cell_type": "code",
      "execution_count": 3,
      "metadata": {},
      "outputs": [],
      "source": [
        "gpus = tf.config.list_physical_devices('GPU')\n",
        "\n",
        "if gpus:\n",
        "    try:\n",
        "        for gpu in gpus:\n",
        "            tf.config.experimental.set_memory_growth(gpu, True)\n",
        "    except RuntimeError as e:\n",
        "        print(e)\n",
        "\n",
        "mixed_precision.set_global_policy(\"mixed_float16\")\n",
        "os.environ[\"TF_XLA_FLAGS\"] = \"--tf_xla_auto_jit=2 --tf_xla_cpu_global_jit\"\n",
        "\n",
        "tf.config.set_logical_device_configuration(\n",
        "    gpus[0],\n",
        "    [tf.config.LogicalDeviceConfiguration(memory_limit=14000)]  # Adjust memory limit (MB) if needed\n",
        ")\n"
      ]
    },
    {
      "cell_type": "code",
      "execution_count": null,
      "metadata": {},
      "outputs": [],
      "source": [
        "# print(tf.sysconfig.get_build_info())\n",
        "# print(f'tensorflow version {tf.__version__}')\n",
        "# print(\"Num GPUs Available:\", len(tf.config.experimental.list_physical_devices('GPU')))\n",
        "# print(tf.config.list_physical_devices('GPU'))\n",
        "# print(tf.config.list_logical_devices('GPU'))"
      ]
    },
    {
      "cell_type": "code",
      "execution_count": null,
      "metadata": {
        "id": "mA0HPVmIBT4C"
      },
      "outputs": [],
      "source": [
        "# !echo \"Downloading files...\"\n",
        "# !wget -q https://github.com/byui-cse/cse450-course/raw/master/data/roadsigns/training1.zip\n",
        "# !wget -q https://github.com/byui-cse/cse450-course/raw/master/data/roadsigns/training2.zip\n",
        "# !wget -q https://github.com/byui-cse/cse450-course/raw/master/data/roadsigns/holdout.zip\n",
        "# !wget -q https://github.com/byui-cse/cse450-course/raw/master/data/roadsigns/mini_holdout.zip\n",
        "# !wget -q https://github.com/byui-cse/cse450-course/raw/master/data/roadsigns/mini_holdout_answers.csv"
      ]
    },
    {
      "cell_type": "markdown",
      "metadata": {},
      "source": [
        "## Dataset Preparation"
      ]
    },
    {
      "cell_type": "markdown",
      "metadata": {},
      "source": [
        "### Upscaling"
      ]
    },
    {
      "cell_type": "code",
      "execution_count": null,
      "metadata": {},
      "outputs": [
        {
          "name": "stdout",
          "output_type": "stream",
          "text": [
            "Resized 52040 images and saved them to upscaled\n"
          ]
        }
      ],
      "source": [
        "### This has been done already, no need to do again.\n",
        "# # Define paths\n",
        "# input_folder = \"original\"\n",
        "# output_folder = \"upscaled\"\n",
        "# os.makedirs(output_folder, exist_ok=True)  # Create output directory if not exists\n",
        "\n",
        "# # Set target resolution\n",
        "# target_size = (300, 300)  # Change this as needed (e.g., 300x300 for B3)\n",
        "\n",
        "# # Get all image files\n",
        "# image_files = []\n",
        "# image_files.extend(glob(os.path.join(input_folder, \"**\", \"*.jpg\"), recursive=True))\n",
        "\n",
        "# # Process images\n",
        "# for img_path in image_files:\n",
        "#     # Determine relative path inside original folder\n",
        "#     relative_path = os.path.relpath(img_path, input_folder)\n",
        "\n",
        "#     # Create corresponding output path\n",
        "#     output_path = os.path.join(output_folder, relative_path)\n",
        "\n",
        "#     # Ensure the target directory exists\n",
        "#     os.makedirs(os.path.dirname(output_path), exist_ok=True)\n",
        "\n",
        "#     # Load and resize image\n",
        "#     img = cv2.imread(img_path)\n",
        "#     if img is None:\n",
        "#         print(f\"Skipping corrupted file: {img_path}\")\n",
        "#         continue\n",
        "\n",
        "#     img_resized = cv2.resize(img, target_size, interpolation=cv2.INTER_LANCZOS4)\n",
        "\n",
        "#     # Save the resized image\n",
        "#     cv2.imwrite(output_path, img_resized)\n",
        "\n",
        "# print(f\"Resized {len(image_files)} images and saved them to {output_folder}\")"
      ]
    },
    {
      "cell_type": "markdown",
      "metadata": {},
      "source": [
        "### General"
      ]
    },
    {
      "cell_type": "code",
      "execution_count": null,
      "metadata": {},
      "outputs": [],
      "source": [
        "# Define paths\n",
        "dataset_path = \"upscaled/training\"\n",
        "batch_size = 24\n",
        "img_size = (300, 300)  # Change if using a different EfficientNet variant\n",
        "\n",
        "# Get class names from directory structure\n",
        "class_names = sorted(os.listdir(dataset_path))\n",
        "# class_names = ['Speed_20', 'Speed_30', 'Speed_50', 'Speed_60', 'Speed_70',\n",
        "#                'Speed_80','Speed_Limit_Ends', 'Speed_100', 'Speed_120', 'Overtaking_Prohibited',\n",
        "#                'Overtakeing_Prohibited_Trucks', 'Crossroad_Ahead', 'Priority_Road_Ahead', 'Yield', 'STOP',\n",
        "#                'Entry_Forbidden', 'Trucks_Forbidden', 'No_Entry(one-way traffic)', 'Cars_Prohibited(!)', 'Left_Curve_Ahead',\n",
        "#                'Right_Curve_Ahead', 'Bends_Left_Then_Right', 'Poor_Surface_Ahead', 'Slippery_Surface_Ahead', 'Road_Narrows_On_Right',\n",
        "#                'Roadwork_Ahead', 'Traffic_Light_Ahead', 'Warning_Pedestrians', 'Warning_Children', 'Warning_Bikes',\n",
        "#                'Uncontrolled_Crossroad', 'Deer_Crossing', 'End_Previous_Limitation', 'Turning_Right_Compulsory', 'Turning_Left_Compulsory',\n",
        "#                'Ahead_Only', 'Straight_Or_Right_Mandatory', 'Straight_Or_Left_Mandatory', 'Passing_Right_Compulsory', 'Passing_Left_Compulsory',\n",
        "#                'Roundabout', 'End_Overtaking_Prohibition', 'End_Overtaking_Prohibition_Trucks']\n",
        "num_classes = len(class_names)\n",
        "\n",
        "# Get all image file paths\n",
        "image_paths = tf.io.gfile.glob(os.path.join(dataset_path, \"*\", \"*.jpg\"))  # Adjust extension if needed\n"
      ]
    },
    {
      "cell_type": "code",
      "execution_count": 6,
      "metadata": {},
      "outputs": [
        {
          "name": "stderr",
          "output_type": "stream",
          "text": [
            "I0000 00:00:1741477937.199273     868 gpu_device.cc:2022] Created device /job:localhost/replica:0/task:0/device:GPU:0 with 14000 MB memory:  -> device: 0, name: NVIDIA GeForce RTX 4080 SUPER, pci bus id: 0000:01:00.0, compute capability: 8.9\n"
          ]
        }
      ],
      "source": [
        "data_augmentation = Sequential([\n",
        "    layers.Rescaling(1./255),  # Normalize to [0,1]\n",
        "    layers.RandomFlip(\"horizontal\"),  # Random horizontal flips\n",
        "    layers.RandomRotation(0.2),  # Rotate by up to 10%\n",
        "    layers.RandomZoom(0.3),  # Random zoom\n",
        "    layers.RandomContrast(0.3),  # Adjust contrast slightly\n",
        "])"
      ]
    },
    {
      "cell_type": "code",
      "execution_count": 7,
      "metadata": {},
      "outputs": [],
      "source": [
        "def load_and_preprocess_image(image_path):\n",
        "    try:\n",
        "        image = tf.io.read_file(image_path)\n",
        "        image = tf.image.decode_jpeg(image, channels=3)\n",
        "        image = tf.image.resize(image, img_size)\n",
        "        image = tf.cast(image, tf.float32)\n",
        "        # Normalize to [-1, 1]\n",
        "        image = image / 255.0\n",
        "        return image\n",
        "    except Exception as e:\n",
        "        tf.print(\"Error processing\", image_path, \":\", e)\n",
        "        # Return a tensor of zeros (or use tf.data.experimental.ignore_errors() downstream)\n",
        "        return tf.zeros([*img_size, 3], dtype=tf.float32)\n",
        "\n",
        "def get_label(image_path):\n",
        "    parts = tf.strings.split(image_path, os.sep)\n",
        "    label_str = parts[-2]  # Extract folder name (e.g., \"0\")\n",
        "    \n",
        "    try:\n",
        "        label = tf.strings.to_number(label_str, out_type=tf.int32)  # Convert safely to integer\n",
        "    except:\n",
        "        print(f\"Error converting label: {label_str}\")\n",
        "        label = tf.constant(-1, dtype=tf.int32)  # Assign -1 if an error occurs\n",
        "    \n",
        "    return label\n",
        "\n",
        "# def augment(image_path, label):\n",
        "#     image = load_and_preprocess_image(image_path)  # Your function that loads & resizes images\n",
        "#     image = data_augmentation(image)  # Apply augmentation\n",
        "#     return image, label\n"
      ]
    },
    {
      "cell_type": "code",
      "execution_count": 13,
      "metadata": {},
      "outputs": [],
      "source": [
        "# # print(get_label(image_paths[0]))  # Test the label extraction\n",
        "# for image in image_paths:\n",
        "#     img = cv2.imread(image)\n",
        "#     print(\"corrupted\" if img is None else \"\", sep='')  # If True, the image is corrupted\n",
        "\n",
        "# print(load_and_preprocess_image(image_paths[0]))  # Test the image loading and preprocessing"
      ]
    },
    {
      "cell_type": "code",
      "execution_count": 8,
      "metadata": {},
      "outputs": [],
      "source": [
        "auto = tf.data.AUTOTUNE\n",
        "# Convert file paths into a tf.data.Dataset\n",
        "dataset = tf.data.Dataset.from_tensor_slices(image_paths)\n",
        "# Apply preprocessing and labeling functions\n",
        "dataset = dataset.map(lambda x: (load_and_preprocess_image(x), get_label(x)), num_parallel_calls=auto)\n",
        "\n",
        "# Shuffle and split dataset\n",
        "dataset = dataset.shuffle(buffer_size=1024, seed=42)\n",
        "\n",
        "train_size = int(0.8 * len(image_paths))  # 80% for training\n",
        "train_ds = dataset.take(train_size).batch(batch_size).prefetch(auto)\n",
        "val_ds = dataset.skip(train_size).batch(batch_size).prefetch(auto)"
      ]
    },
    {
      "cell_type": "code",
      "execution_count": null,
      "metadata": {},
      "outputs": [],
      "source": [
        "# # Compute class weights\n",
        "# class_labels = np.array([get_label(img_path).numpy() for img_path in image_paths])\n",
        "# class_weights = compute_class_weight(class_weight=\"balanced\", classes=np.unique(class_labels), y=class_labels)\n",
        "# class_weight_dict = dict(enumerate(class_weights))\n",
        "# pickle.dump(class_weight_dict, open(\"class_weight_dict.pkl\", \"wb\"))"
      ]
    },
    {
      "cell_type": "code",
      "execution_count": 38,
      "metadata": {},
      "outputs": [],
      "source": [
        "class_weight_dict = pickle.load(open(\"class_weight_dict.pkl\", \"rb\"))"
      ]
    },
    {
      "cell_type": "markdown",
      "metadata": {},
      "source": [
        "## Model Generation"
      ]
    },
    {
      "cell_type": "code",
      "execution_count": 56,
      "metadata": {},
      "outputs": [],
      "source": [
        "inputs = tf.keras.Input(shape=(*img_size, 3))\n",
        "\n",
        "# Apply in-model data augmentation\n",
        "x = data_augmentation(inputs)\n",
        "\n",
        "# Load EfficientNet and attach it\n",
        "base_model = EfficientNetB3(weights='imagenet', include_top=False, input_tensor=x)\n",
        "# base_model.trainable = False\n",
        "\n",
        "x = GlobalAveragePooling2D()(base_model.output)\n",
        "x = Dropout(0.4)(x)\n",
        "x = Dense(512, activation='relu', kernel_regularizer=tf.keras.regularizers.l2(0.01))(x)\n",
        "x = Dropout(0.4)(x)\n",
        "outputs = Dense(num_classes, activation='softmax')(x)\n",
        "\n",
        "# Define model explicitly\n",
        "model = tf.keras.Model(inputs, outputs)"
      ]
    },
    {
      "cell_type": "code",
      "execution_count": 57,
      "metadata": {},
      "outputs": [],
      "source": [
        "model.compile(optimizer=tf.keras.optimizers.Adam(learning_rate=0.0002),\n",
        "              loss='sparse_categorical_crossentropy',  # Integer labels\n",
        "              metrics=['accuracy'])"
      ]
    },
    {
      "cell_type": "code",
      "execution_count": 58,
      "metadata": {},
      "outputs": [
        {
          "name": "stdout",
          "output_type": "stream",
          "text": [
            "\u001b[1m1/1\u001b[0m \u001b[32m━━━━━━━━━━━━━━━━━━━━\u001b[0m\u001b[37m\u001b[0m \u001b[1m3s\u001b[0m 3s/step\n"
          ]
        },
        {
          "data": {
            "text/plain": [
              "array([[0.02368503, 0.02124928, 0.02811983, ..., 0.02920237, 0.02133273,\n",
              "        0.02316666],\n",
              "       [0.02368473, 0.0212505 , 0.02812148, ..., 0.02920197, 0.02133079,\n",
              "        0.02316396],\n",
              "       [0.0236861 , 0.0212493 , 0.02812079, ..., 0.02920163, 0.02133371,\n",
              "        0.02316653],\n",
              "       ...,\n",
              "       [0.02368213, 0.02125245, 0.02811669, ..., 0.02920375, 0.02133189,\n",
              "        0.02316597],\n",
              "       [0.02368519, 0.02124977, 0.02812103, ..., 0.0292006 , 0.02133388,\n",
              "        0.02316515],\n",
              "       [0.02368525, 0.02124997, 0.02811955, ..., 0.02920253, 0.02132917,\n",
              "        0.02316592]], dtype=float32)"
            ]
          },
          "execution_count": 58,
          "metadata": {},
          "output_type": "execute_result"
        }
      ],
      "source": [
        "tf.keras.backend.clear_session()  # Clear session to avoid clutter from old models\n",
        "warmup_data = tf.convert_to_tensor(next(iter(train_ds))[0])  # Get one batch\n",
        "model.predict(warmup_data)  # Run one inference step\n"
      ]
    },
    {
      "cell_type": "code",
      "execution_count": 59,
      "metadata": {},
      "outputs": [
        {
          "name": "stdout",
          "output_type": "stream",
          "text": [
            "Epoch 1/5\n"
          ]
        },
        {
          "name": "stderr",
          "output_type": "stream",
          "text": [
            "E0000 00:00:1741493278.892461     868 meta_optimizer.cc:966] layout failed: INVALID_ARGUMENT: Size of values 0 does not match size of permutation 4 @ fanin shape inStatefulPartitionedCall/functional_1/block1b_drop_1/stateless_dropout/SelectV2-2-TransposeNHWCToNCHW-LayoutOptimizer\n"
          ]
        },
        {
          "name": "stdout",
          "output_type": "stream",
          "text": [
            "\u001b[1m1307/1307\u001b[0m \u001b[32m━━━━━━━━━━━━━━━━━━━━\u001b[0m\u001b[37m\u001b[0m \u001b[1m499s\u001b[0m 355ms/step - accuracy: 0.6991 - loss: 7.2983 - val_accuracy: 0.0022 - val_loss: 6.1131\n",
            "Epoch 2/5\n",
            "\u001b[1m1307/1307\u001b[0m \u001b[32m━━━━━━━━━━━━━━━━━━━━\u001b[0m\u001b[37m\u001b[0m \u001b[1m467s\u001b[0m 357ms/step - accuracy: 0.8355 - loss: 1.7392 - val_accuracy: 0.0020 - val_loss: 6.4360\n",
            "Epoch 3/5\n",
            "\u001b[1m1307/1307\u001b[0m \u001b[32m━━━━━━━━━━━━━━━━━━━━\u001b[0m\u001b[37m\u001b[0m \u001b[1m454s\u001b[0m 348ms/step - accuracy: 0.8967 - loss: 0.9176 - val_accuracy: 0.0384 - val_loss: 7.9892\n",
            "Epoch 4/5\n",
            "\u001b[1m1307/1307\u001b[0m \u001b[32m━━━━━━━━━━━━━━━━━━━━\u001b[0m\u001b[37m\u001b[0m \u001b[1m455s\u001b[0m 348ms/step - accuracy: 0.9202 - loss: 0.6680 - val_accuracy: 7.6511e-04 - val_loss: 25.9423\n",
            "Epoch 5/5\n",
            "\u001b[1m1307/1307\u001b[0m \u001b[32m━━━━━━━━━━━━━━━━━━━━\u001b[0m\u001b[37m\u001b[0m \u001b[1m453s\u001b[0m 347ms/step - accuracy: 0.9292 - loss: 0.5874 - val_accuracy: 0.0321 - val_loss: 11.6555\n"
          ]
        }
      ],
      "source": [
        "history = model.fit(\n",
        "    train_ds,\n",
        "    epochs=5,  # Start small; increase if needed\n",
        "    validation_data=val_ds,\n",
        "    class_weight=class_weight_dict\n",
        ")"
      ]
    },
    {
      "cell_type": "code",
      "execution_count": 60,
      "metadata": {},
      "outputs": [],
      "source": [
        "model_filepath = \"models/en_b3_take3.keras\""
      ]
    },
    {
      "cell_type": "code",
      "execution_count": 61,
      "metadata": {},
      "outputs": [],
      "source": [
        "model.save(model_filepath)"
      ]
    },
    {
      "cell_type": "code",
      "execution_count": null,
      "metadata": {},
      "outputs": [],
      "source": [
        "model = tf.keras.models.load_model(model_filepath)"
      ]
    },
    {
      "cell_type": "markdown",
      "metadata": {},
      "source": [
        "## Post-Gen Exploration"
      ]
    },
    {
      "cell_type": "code",
      "execution_count": 4,
      "metadata": {
        "id": "RnGBwGVZPyyh"
      },
      "outputs": [
        {
          "ename": "NameError",
          "evalue": "name 'train_generator' is not defined",
          "output_type": "error",
          "traceback": [
            "\u001b[0;31m---------------------------------------------------------------------------\u001b[0m",
            "\u001b[0;31mNameError\u001b[0m                                 Traceback (most recent call last)",
            "Cell \u001b[0;32mIn[4], line 3\u001b[0m\n\u001b[1;32m      1\u001b[0m \u001b[38;5;66;03m# View 9 images and their class labels\u001b[39;00m\n\u001b[1;32m      2\u001b[0m plt\u001b[38;5;241m.\u001b[39mfigure(figsize\u001b[38;5;241m=\u001b[39m(\u001b[38;5;241m10\u001b[39m, \u001b[38;5;241m10\u001b[39m))\n\u001b[0;32m----> 3\u001b[0m images, labels \u001b[38;5;241m=\u001b[39m \u001b[38;5;28mnext\u001b[39m(\u001b[43mtrain_generator\u001b[49m)  \u001b[38;5;66;03m# Assuming train_generator is a generator\u001b[39;00m\n\u001b[1;32m      4\u001b[0m batch_size \u001b[38;5;241m=\u001b[39m images\u001b[38;5;241m.\u001b[39mshape[\u001b[38;5;241m0\u001b[39m]\n\u001b[1;32m      6\u001b[0m \u001b[38;5;28;01mfor\u001b[39;00m i \u001b[38;5;129;01min\u001b[39;00m \u001b[38;5;28mrange\u001b[39m(\u001b[38;5;28mmin\u001b[39m(\u001b[38;5;241m9\u001b[39m, batch_size)):\n",
            "\u001b[0;31mNameError\u001b[0m: name 'train_generator' is not defined"
          ]
        },
        {
          "data": {
            "text/plain": [
              "<Figure size 1000x1000 with 0 Axes>"
            ]
          },
          "metadata": {},
          "output_type": "display_data"
        }
      ],
      "source": [
        "# View 9 images and their class labels\n",
        "plt.figure(figsize=(10, 10))\n",
        "images, labels = next(train_generator)  # Assuming train_generator is a generator\n",
        "batch_size = images.shape[0]\n",
        "\n",
        "for i in range(min(9, batch_size)):\n",
        "    ax = plt.subplot(3, 3, i + 1)\n",
        "    plt.imshow((images[i] * 255).astype(\"uint8\"))\n",
        "    plt.title(int(labels[i]))\n",
        "    plt.axis(\"off\")\n",
        "\n",
        "plt.show()"
      ]
    },
    {
      "cell_type": "markdown",
      "metadata": {},
      "source": [
        "## Mini-Holdout"
      ]
    },
    {
      "cell_type": "code",
      "execution_count": 62,
      "metadata": {},
      "outputs": [],
      "source": [
        "# Path to new images\n",
        "mini_path = \"upscaled/mini_holdout\"  # Change this to your actual folder\n",
        "mini_files = sorted([os.path.join(mini_path, f) for f in os.listdir(mini_path) if f.endswith((\".jpg\"))])\n",
        "\n",
        "# Load and preprocess all new images\n",
        "mini = np.array([load_and_preprocess_image(img_path) for img_path in mini_files])\n"
      ]
    },
    {
      "cell_type": "code",
      "execution_count": 63,
      "metadata": {},
      "outputs": [
        {
          "name": "stdout",
          "output_type": "stream",
          "text": [
            "(None, 300, 300, 3)\n",
            "(201, 300, 300, 3)\n"
          ]
        }
      ],
      "source": [
        "print(model.input_shape)\n",
        "print(mini.shape)"
      ]
    },
    {
      "cell_type": "code",
      "execution_count": 64,
      "metadata": {},
      "outputs": [
        {
          "name": "stdout",
          "output_type": "stream",
          "text": [
            "\u001b[1m7/7\u001b[0m \u001b[32m━━━━━━━━━━━━━━━━━━━━\u001b[0m\u001b[37m\u001b[0m \u001b[1m3s\u001b[0m 73ms/step\n"
          ]
        }
      ],
      "source": [
        "# Predict class probabilities\n",
        "predictions = model.predict(mini)\n",
        "\n",
        "# Convert probabilities to class labels\n",
        "predicted_classes = np.argmax(predictions, axis=1)"
      ]
    },
    {
      "cell_type": "code",
      "execution_count": 65,
      "metadata": {},
      "outputs": [
        {
          "name": "stdout",
          "output_type": "stream",
          "text": [
            "upscaled/mini_holdout/00000.jpg 17\n",
            "upscaled/mini_holdout/00010.jpg 17\n",
            "upscaled/mini_holdout/00020.jpg 17\n",
            "upscaled/mini_holdout/00030.jpg 17\n",
            "upscaled/mini_holdout/00040.jpg 17\n",
            "upscaled/mini_holdout/00050.jpg 17\n",
            "upscaled/mini_holdout/00060.jpg 17\n",
            "upscaled/mini_holdout/00070.jpg 17\n",
            "upscaled/mini_holdout/00080.jpg 17\n",
            "upscaled/mini_holdout/00090.jpg 17\n",
            "upscaled/mini_holdout/00100.jpg 17\n",
            "upscaled/mini_holdout/00110.jpg 17\n",
            "upscaled/mini_holdout/00120.jpg 17\n",
            "upscaled/mini_holdout/00130.jpg 17\n",
            "upscaled/mini_holdout/00140.jpg 17\n",
            "upscaled/mini_holdout/00150.jpg 17\n",
            "upscaled/mini_holdout/00160.jpg 17\n",
            "upscaled/mini_holdout/00170.jpg 17\n",
            "upscaled/mini_holdout/00180.jpg 17\n",
            "upscaled/mini_holdout/00190.jpg 17\n"
          ]
        }
      ],
      "source": [
        "for i in range(0, 200, 10):\n",
        "    print(mini_files[i], predicted_classes[i])"
      ]
    },
    {
      "cell_type": "code",
      "execution_count": 66,
      "metadata": {},
      "outputs": [],
      "source": [
        "mini_answers = pd.read_csv(\"mini_holdout_answers.csv\")\n",
        "# Create a mapping from filename → class\n",
        "filename_to_label = dict(zip(mini_answers[\"Filename\"], mini_answers[\"ClassId\"]))\n",
        "\n",
        "# Extract true labels in the same order as mini_files\n",
        "true_labels = [filename_to_label[os.path.basename(f)] for f in mini_files]\n",
        "\n",
        "# Convert to NumPy array (for compatibility with sklearn)\n",
        "true_labels = np.array(true_labels)"
      ]
    },
    {
      "cell_type": "code",
      "execution_count": 67,
      "metadata": {},
      "outputs": [
        {
          "name": "stdout",
          "output_type": "stream",
          "text": [
            "Accuracy: 0.0348\n",
            "Precision: 0.0012\n",
            "Recall: 0.0348\n",
            "F1 Score: 0.0023\n"
          ]
        },
        {
          "name": "stderr",
          "output_type": "stream",
          "text": [
            "/home/tman/tf-env/lib/python3.10/site-packages/sklearn/metrics/_classification.py:1565: UndefinedMetricWarning: Precision is ill-defined and being set to 0.0 in labels with no predicted samples. Use `zero_division` parameter to control this behavior.\n",
            "  _warn_prf(average, modifier, f\"{metric.capitalize()} is\", len(result))\n"
          ]
        }
      ],
      "source": [
        "# Compute metrics\n",
        "accuracy = accuracy_score(true_labels, predicted_classes)\n",
        "precision = precision_score(true_labels, predicted_classes, average='weighted')\n",
        "recall = recall_score(true_labels, predicted_classes, average='weighted')\n",
        "f1 = f1_score(true_labels, predicted_classes, average='weighted')\n",
        "\n",
        "# Print results\n",
        "print(f\"Accuracy: {accuracy:.4f}\")\n",
        "print(f\"Precision: {precision:.4f}\")\n",
        "print(f\"Recall: {recall:.4f}\")\n",
        "print(f\"F1 Score: {f1:.4f}\")"
      ]
    },
    {
      "cell_type": "markdown",
      "metadata": {
        "id": "uDc0xuoZs3DK"
      },
      "source": [
        "## Testing the model\n",
        "Once you have built and trained your model, the next step is to run the mini holdout images through it and see how well your model does at making predictions for images it has never seen before.\n",
        "\n",
        "Since loading these images and formatting them for the model can be tricky, you may find the following code useful. This code only uses your model to predict the class label for a given image. You'll still need to compare those predictions to the \"ground truth\" class labels in `mini_holdout_answers.csv` to evaluate how well the model does.\n",
        "\n",
        "Previously, you were given a file that would check your results. This time you're given the answers to the first mini holdout dataset. You'll need to compare those predictions against the \"ground truth\" class labels in `mini_holdout_answers.csv` to evaluate how well the model does.\n",
        "\n",
        "Make sure to use the insights gained from the mini hold out dataset in your executive summary.\n",
        "\n",
        "\n",
        "```\n",
        "from tensorflow.keras.preprocessing import image_dataset_from_directory\n",
        "test_dir = '/content/'\n",
        "\n",
        "test_datagen = ImageDataGenerator(rescale=1./255)\n",
        "test_generator = test_datagen.flow_from_directory(\n",
        "        test_dir,\n",
        "        classes=['mini_holdout'],\n",
        "        target_size=image_size,\n",
        "        class_mode='sparse',\n",
        "        shuffle=False)\n",
        "probabilities = model.predict(test_generator)\n",
        "predictions = [np.argmax(probas) for probas in probabilities]\n",
        "```\n",
        "\n"
      ]
    },
    {
      "cell_type": "markdown",
      "metadata": {
        "id": "dodPABZ-Yz-6"
      },
      "source": [
        "##Mini Hold out Dataset\n",
        "\n",
        "\n",
        "Once you feel confident, you will need to predict for the full holdout dataset using the following code, and submit your csv file:\n",
        "\n",
        "```\n",
        "from tensorflow.keras.preprocessing import image_dataset_from_directory\n",
        "test_dir = '/content/'\n",
        "\n",
        "test_datagen = ImageDataGenerator(rescale=1./255)\n",
        "test_generator = test_datagen.flow_from_directory(\n",
        "        test_dir,\n",
        "        classes=['holdout'],\n",
        "        target_size=image_size,\n",
        "        class_mode='sparse',\n",
        "        shuffle=False)\n",
        "probabilities = model.predict(test_generator)\n",
        "predictions = [np.argmax(probas) for probas in probabilities]\n",
        "```"
      ]
    }
  ],
  "metadata": {
    "accelerator": "GPU",
    "colab": {
      "name": "starter_signs_v2_student.ipynb",
      "provenance": []
    },
    "kernelspec": {
      "display_name": "Python 3.10.12 (tf-env)",
      "language": "python",
      "name": "tf-env"
    },
    "language_info": {
      "codemirror_mode": {
        "name": "ipython",
        "version": 3
      },
      "file_extension": ".py",
      "mimetype": "text/x-python",
      "name": "python",
      "nbconvert_exporter": "python",
      "pygments_lexer": "ipython3",
      "version": "3.10.12"
    }
  },
  "nbformat": 4,
  "nbformat_minor": 0
}
